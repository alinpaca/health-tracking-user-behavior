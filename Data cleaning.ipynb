{
 "cells": [
  {
   "cell_type": "markdown",
   "metadata": {},
   "source": [
    "# User behavior in health tracking app"
   ]
  },
  {
   "cell_type": "markdown",
   "metadata": {},
   "source": [
    "## Data source:\n",
    "#### Subset of data which only has users who inputed their weight at least 2 times. However, there are still null or zero values.\n",
    "- stats.txt contains each user's app attributes\n",
    "- weights.txt contains multiple weight entries for each user ID\n",
    "\n",
    "In order to understand how the app is serving the users, we need input from the user. In this data, we will be looking for:\n",
    "- number of times the user inputs their weight (goal tracking)\n",
    "- when they input their weight: frequency, when they started tracking compared to when the app was installed\n",
    "- what other factors influence if they goal track or reach their goal i.e. who reaches their goals?"
   ]
  },
  {
   "cell_type": "markdown",
   "metadata": {},
   "source": [
    "To dos:"
   ]
  },
  {
   "cell_type": "code",
   "execution_count": 3,
   "metadata": {},
   "outputs": [],
   "source": [
    "# need to standardize date format to yyyy-mm-dd from yyyy-m-d --> Done\n",
    "# where are the zero values?\n",
    "# add column to tally how many parameters the user inputted\n",
    "# add BMI"
   ]
  },
  {
   "cell_type": "code",
   "execution_count": 2,
   "metadata": {},
   "outputs": [],
   "source": [
    "import numpy as np\n",
    "import pandas as pd\n",
    "import matplotlib.pyplot as plt"
   ]
  },
  {
   "cell_type": "code",
   "execution_count": 3,
   "metadata": {},
   "outputs": [],
   "source": [
    "df = pd.read_csv('stats.txt', delimiter='\\t')"
   ]
  },
  {
   "cell_type": "code",
   "execution_count": 4,
   "metadata": {},
   "outputs": [
    {
     "data": {
      "text/html": [
       "<div>\n",
       "<style scoped>\n",
       "    .dataframe tbody tr th:only-of-type {\n",
       "        vertical-align: middle;\n",
       "    }\n",
       "\n",
       "    .dataframe tbody tr th {\n",
       "        vertical-align: top;\n",
       "    }\n",
       "\n",
       "    .dataframe thead th {\n",
       "        text-align: right;\n",
       "    }\n",
       "</style>\n",
       "<table border=\"1\" class=\"dataframe\">\n",
       "  <thead>\n",
       "    <tr style=\"text-align: right;\">\n",
       "      <th></th>\n",
       "      <th>ID</th>\n",
       "      <th>InstallDate</th>\n",
       "      <th>LastSavedUTC</th>\n",
       "      <th>FirstInstalledVersion</th>\n",
       "      <th>SessionCount</th>\n",
       "      <th>ExperimentID</th>\n",
       "      <th>UICulture</th>\n",
       "      <th>Language</th>\n",
       "      <th>IsPaid</th>\n",
       "      <th>LastPurchaseDaysSinceInstall</th>\n",
       "      <th>...</th>\n",
       "      <th>DailyGoalCount</th>\n",
       "      <th>Program</th>\n",
       "      <th>ReminderFrequency</th>\n",
       "      <th>SelectedTotal</th>\n",
       "      <th>ShowMealTime</th>\n",
       "      <th>ExerciseFrequency</th>\n",
       "      <th>Height</th>\n",
       "      <th>StartingWeight</th>\n",
       "      <th>TargetWeight</th>\n",
       "      <th>OnboardingGoal</th>\n",
       "    </tr>\n",
       "  </thead>\n",
       "  <tbody>\n",
       "    <tr>\n",
       "      <th>0</th>\n",
       "      <td>1</td>\n",
       "      <td>2018-04-28</td>\n",
       "      <td>2019-03-21</td>\n",
       "      <td>4.4.3</td>\n",
       "      <td>590</td>\n",
       "      <td>2106</td>\n",
       "      <td>en-CA</td>\n",
       "      <td>en</td>\n",
       "      <td>False</td>\n",
       "      <td>NaN</td>\n",
       "      <td>...</td>\n",
       "      <td>4</td>\n",
       "      <td>Normal</td>\n",
       "      <td>ForEveryMeal</td>\n",
       "      <td>Calories</td>\n",
       "      <td>False</td>\n",
       "      <td>LittleOrNone</td>\n",
       "      <td>168.91</td>\n",
       "      <td>90.08356</td>\n",
       "      <td>86.18266</td>\n",
       "      <td>LoseMaintainOrGainWeight</td>\n",
       "    </tr>\n",
       "    <tr>\n",
       "      <th>1</th>\n",
       "      <td>2</td>\n",
       "      <td>2018-01-23</td>\n",
       "      <td>2018-08-01</td>\n",
       "      <td>3.6.3.1</td>\n",
       "      <td>253</td>\n",
       "      <td>607</td>\n",
       "      <td>de-DE</td>\n",
       "      <td>de</td>\n",
       "      <td>True</td>\n",
       "      <td>25.0</td>\n",
       "      <td>...</td>\n",
       "      <td>4</td>\n",
       "      <td>Normal</td>\n",
       "      <td>ForEveryMeal</td>\n",
       "      <td>Calories</td>\n",
       "      <td>True</td>\n",
       "      <td>LittleOrNone</td>\n",
       "      <td>178.00</td>\n",
       "      <td>100.00000</td>\n",
       "      <td>80.00000</td>\n",
       "      <td>LoseMaintainOrGainWeight</td>\n",
       "    </tr>\n",
       "  </tbody>\n",
       "</table>\n",
       "<p>2 rows × 24 columns</p>\n",
       "</div>"
      ],
      "text/plain": [
       "   ID InstallDate LastSavedUTC FirstInstalledVersion  SessionCount  \\\n",
       "0   1  2018-04-28   2019-03-21                 4.4.3           590   \n",
       "1   2  2018-01-23   2018-08-01               3.6.3.1           253   \n",
       "\n",
       "   ExperimentID UICulture Language  IsPaid  LastPurchaseDaysSinceInstall  \\\n",
       "0          2106     en-CA       en   False                           NaN   \n",
       "1           607     de-DE       de    True                          25.0   \n",
       "\n",
       "             ...             DailyGoalCount  Program ReminderFrequency  \\\n",
       "0            ...                          4   Normal      ForEveryMeal   \n",
       "1            ...                          4   Normal      ForEveryMeal   \n",
       "\n",
       "   SelectedTotal  ShowMealTime ExerciseFrequency  Height StartingWeight  \\\n",
       "0       Calories         False      LittleOrNone  168.91       90.08356   \n",
       "1       Calories          True      LittleOrNone  178.00      100.00000   \n",
       "\n",
       "   TargetWeight            OnboardingGoal  \n",
       "0      86.18266  LoseMaintainOrGainWeight  \n",
       "1      80.00000  LoseMaintainOrGainWeight  \n",
       "\n",
       "[2 rows x 24 columns]"
      ]
     },
     "execution_count": 4,
     "metadata": {},
     "output_type": "execute_result"
    }
   ],
   "source": [
    "df.head(2)"
   ]
  },
  {
   "cell_type": "code",
   "execution_count": 5,
   "metadata": {},
   "outputs": [
    {
     "name": "stdout",
     "output_type": "stream",
     "text": [
      "<class 'pandas.core.frame.DataFrame'>\n",
      "RangeIndex: 86796 entries, 0 to 86795\n",
      "Data columns (total 24 columns):\n",
      "ID                              86796 non-null int64\n",
      "InstallDate                     86796 non-null object\n",
      "LastSavedUTC                    86796 non-null object\n",
      "FirstInstalledVersion           86785 non-null object\n",
      "SessionCount                    86796 non-null int64\n",
      "ExperimentID                    86796 non-null int64\n",
      "UICulture                       86796 non-null object\n",
      "Language                        86796 non-null object\n",
      "IsPaid                          86796 non-null bool\n",
      "LastPurchaseDaysSinceInstall    3961 non-null float64\n",
      "Feedback.FirstRating            37542 non-null float64\n",
      "Feedback.RatingCount            54386 non-null float64\n",
      "Gender                          86796 non-null object\n",
      "AgeWhenGoalsSet                 86796 non-null int64\n",
      "DailyGoalCount                  86796 non-null int64\n",
      "Program                         86796 non-null object\n",
      "ReminderFrequency               86796 non-null object\n",
      "SelectedTotal                   86796 non-null object\n",
      "ShowMealTime                    86796 non-null bool\n",
      "ExerciseFrequency               86796 non-null object\n",
      "Height                          86796 non-null float64\n",
      "StartingWeight                  86796 non-null float64\n",
      "TargetWeight                    86796 non-null float64\n",
      "OnboardingGoal                  86796 non-null object\n",
      "dtypes: bool(2), float64(6), int64(5), object(11)\n",
      "memory usage: 14.7+ MB\n"
     ]
    }
   ],
   "source": [
    "df.info()"
   ]
  },
  {
   "cell_type": "code",
   "execution_count": 16,
   "metadata": {},
   "outputs": [],
   "source": [
    "# Drop unnecessary column(s)\n",
    "\n",
    "df = df.drop('ExperimentID', axis=1)"
   ]
  },
  {
   "cell_type": "code",
   "execution_count": 17,
   "metadata": {},
   "outputs": [],
   "source": [
    "# Change date strings into datetime objects\n",
    "\n",
    "df['InstallDate'] = pd.to_datetime(df['InstallDate'])\n",
    "df['LastSavedUTC'] = pd.to_datetime(df['LastSavedUTC'], errors='coerce')"
   ]
  },
  {
   "cell_type": "code",
   "execution_count": 19,
   "metadata": {},
   "outputs": [],
   "source": [
    "# Replace string 'none' to None for Gender\n",
    "\n",
    "df['Gender'].replace('None', None);"
   ]
  },
  {
   "cell_type": "markdown",
   "metadata": {},
   "source": [
    "## Feature Engineering\n",
    "Create new interaction features:\n",
    "- Inputs: count the number of inputs the user inputted as a measure for user engagement in the app\n",
    "- Inputs_pct: percentage of inputs completed by user\n",
    "- Body Mass Index (BMI): measure of fitness (weight/height$^2$ in kg/m$^2$)\n",
    "\n",
    "Handle columns with sparse distribution in categories:\n",
    "- Age: rather than use a continuous integer value, we can also create a new column for age group (quintiles based on distribution)\n",
    "- Onboarding Goal: consolidate 8 categories into fewer categories"
   ]
  },
  {
   "cell_type": "code",
   "execution_count": 101,
   "metadata": {},
   "outputs": [],
   "source": [
    "# Re-assign OnboardingGoal categories into fewer categories\n",
    "cats = {'weight':['LoseMaintainOrGainWeight'], \n",
    "        'nutrition':['TrackSpecificNutritionGoals'], \n",
    "        'none':['Skip', 'NotOffered', 'None', 'SignIn'],\n",
    "        'other':['Other', 'JustCurious']}\n",
    "\n",
    "cats2 = {v: k for k,vv in cats.items() for v in vv}"
   ]
  },
  {
   "cell_type": "code",
   "execution_count": 102,
   "metadata": {},
   "outputs": [],
   "source": [
    "df['OnboardingGoal'] = df['OnboardingGoal'].map(cats2).astype('category')"
   ]
  },
  {
   "cell_type": "code",
   "execution_count": 103,
   "metadata": {},
   "outputs": [
    {
     "data": {
      "text/plain": [
       "weight       77078\n",
       "other         3829\n",
       "nutrition     2980\n",
       "none          2909\n",
       "Name: OnboardingGoal, dtype: int64"
      ]
     },
     "execution_count": 103,
     "metadata": {},
     "output_type": "execute_result"
    }
   ],
   "source": [
    "df['OnboardingGoal'].value_counts()"
   ]
  },
  {
   "cell_type": "code",
   "execution_count": 104,
   "metadata": {},
   "outputs": [],
   "source": [
    "# Inputs\n",
    "# Create new column in dataframe\n",
    "df['Inputs'] = 0"
   ]
  },
  {
   "cell_type": "code",
   "execution_count": 106,
   "metadata": {},
   "outputs": [],
   "source": [
    "# If the user input meets the condition for each feature, add 1 to the input count\n",
    "\n",
    "for idx in df.index:\n",
    "    \n",
    "    if df.at[idx, 'Gender']!='None':\n",
    "        df.at[idx, 'Inputs'] += 1\n",
    "        \n",
    "    if df.at[idx, 'AgeWhenGoalsSet']!=0:\n",
    "        df.at[idx, 'Inputs'] += 1\n",
    "        \n",
    "    if df.at[idx, 'Program']!='None':\n",
    "        df.at[idx, 'Inputs'] += 1\n",
    "        \n",
    "    if (df.at[idx, 'ReminderFrequency']=='ForEveryMeal') | (df.at[idx, 'ReminderFrequency']=='OncePerDay'):\n",
    "        df.at[idx, 'Inputs'] += 1\n",
    "        \n",
    "    if df.at[idx, 'ShowMealTime']==True:\n",
    "        df.at[idx, 'Inputs'] += 1\n",
    "        \n",
    "    if df.at[idx, 'Height']!=0:\n",
    "        df.at[idx, 'Inputs'] += 1\n",
    "    \n",
    "    if df.at[idx, 'StartingWeight']!=0:\n",
    "        df.at[idx, 'Inputs'] += 1\n",
    "              \n",
    "    if df.at[idx, 'TargetWeight']!=0:\n",
    "        df.at[idx, 'Inputs'] += 1\n",
    "              \n",
    "    if df.at[idx, 'OnboardingGoal']!='none':\n",
    "        df.at[idx, 'Inputs'] += 1"
   ]
  },
  {
   "cell_type": "code",
   "execution_count": 109,
   "metadata": {},
   "outputs": [],
   "source": [
    "# Inputs_pct is the percentage of inputs completion for each user (9 inputs total)\n",
    "\n",
    "total_inputs = 9\n",
    "df['Inputs_pct'] = (df['Inputs']/total_inputs).astype(float)"
   ]
  },
  {
   "cell_type": "code",
   "execution_count": null,
   "metadata": {},
   "outputs": [],
   "source": [
    "# BMI calculated from weight and height\n",
    "\n",
    "df['BMI'] = df['StartingWeight']/(df['Height']/100)**2"
   ]
  },
  {
   "cell_type": "code",
   "execution_count": 125,
   "metadata": {},
   "outputs": [],
   "source": []
  },
  {
   "cell_type": "markdown",
   "metadata": {},
   "source": [
    "### AgeWhenGoalsSet\n",
    "- minimum age for Itunes and Google Play stores are 13 years old\n",
    "- some entries < 13 yo (6-12 yo)"
   ]
  },
  {
   "cell_type": "code",
   "execution_count": 142,
   "metadata": {},
   "outputs": [
    {
     "data": {
      "image/png": "[encoded data removed]",
      "text/plain": [
       "<Figure size 432x288 with 1 Axes>"
      ]
     },
     "metadata": {
      "needs_background": "light"
     },
     "output_type": "display_data"
    }
   ],
   "source": [
    "plt.hist(df['AgeWhenGoalsSet'], bins=100)\n",
    "plt.xlim(0,100);\n",
    "plt.show()"
   ]
  },
  {
   "cell_type": "code",
   "execution_count": 143,
   "metadata": {},
   "outputs": [
    {
     "data": {
      "image/png": "[encoded data removed]",
      "text/plain": [
       "<Figure size 432x288 with 1 Axes>"
      ]
     },
     "metadata": {
      "needs_background": "light"
     },
     "output_type": "display_data"
    }
   ],
   "source": [
    "plt.hist(df[df['IsPaid']==True]['AgeWhenGoalsSet'], bins=100)\n",
    "plt.xlim(0,100)\n",
    "plt.show()"
   ]
  },
  {
   "cell_type": "code",
   "execution_count": 144,
   "metadata": {},
   "outputs": [
    {
     "data": {
      "text/plain": [
       "count    3961.000000\n",
       "mean       40.887402\n",
       "std        11.983319\n",
       "min        11.000000\n",
       "25%        32.000000\n",
       "50%        41.000000\n",
       "75%        48.000000\n",
       "max        81.000000\n",
       "Name: AgeWhenGoalsSet, dtype: float64"
      ]
     },
     "execution_count": 144,
     "metadata": {},
     "output_type": "execute_result"
    }
   ],
   "source": [
    "# users who have paid for the app tend to be older\n",
    "df[(df['IsPaid']==True) & (df['AgeWhenGoalsSet']!=0)]['AgeWhenGoalsSet'].describe()"
   ]
  },
  {
   "cell_type": "code",
   "execution_count": 145,
   "metadata": {},
   "outputs": [
    {
     "data": {
      "text/plain": [
       "count    82835.000000\n",
       "mean        30.794399\n",
       "std         11.688871\n",
       "min          6.000000\n",
       "25%         21.000000\n",
       "50%         31.000000\n",
       "75%         37.000000\n",
       "max         95.000000\n",
       "Name: AgeWhenGoalsSet, dtype: float64"
      ]
     },
     "execution_count": 145,
     "metadata": {},
     "output_type": "execute_result"
    }
   ],
   "source": [
    "df[(df['IsPaid']==False) & (df['AgeWhenGoalsSet']!=0)]['AgeWhenGoalsSet'].describe()"
   ]
  },
  {
   "cell_type": "code",
   "execution_count": null,
   "metadata": {},
   "outputs": [],
   "source": [
    "# for age, split into paid and not paid, then take mean from each category\n",
    "\n",
    "avg_age_paid = 41\n",
    "avg_age_notpaid = 31\n",
    "\n",
    "df.loc[(df['IsPaid']==True) & (df['AgeWhenGoalsSet']==0), 'AgeWhenGoalsSet'] = avg_age_paid\n",
    "df.loc[(df['IsPaid']==False) & (df['AgeWhenGoalsSet']==0), 'AgeWhenGoalsSet'] = avg_age_notpaid"
   ]
  },
  {
   "cell_type": "code",
   "execution_count": 146,
   "metadata": {},
   "outputs": [],
   "source": [
    "df.to_pickle('df_190419.pkl')"
   ]
  },
  {
   "cell_type": "code",
   "execution_count": null,
   "metadata": {},
   "outputs": [],
   "source": []
  }
 ],
 "metadata": {
  "kernelspec": {
   "display_name": "Python 3",
   "language": "python",
   "name": "python3"
  },
  "language_info": {
   "codemirror_mode": {
    "name": "ipython",
    "version": 3
   },
   "file_extension": ".py",
   "mimetype": "text/x-python",
   "name": "python",
   "nbconvert_exporter": "python",
   "pygments_lexer": "ipython3",
   "version": "3.6.8"
  }
 },
 "nbformat": 4,
 "nbformat_minor": 2
}
